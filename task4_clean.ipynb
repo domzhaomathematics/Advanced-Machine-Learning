{
  "nbformat": 4,
  "nbformat_minor": 0,
  "metadata": {
    "colab": {
      "name": "task4-clean.ipynb",
      "provenance": [],
      "collapsed_sections": [],
      "machine_shape": "hm"
    },
    "kernelspec": {
      "name": "python3",
      "display_name": "Python 3"
    },
    "accelerator": "GPU"
  },
  "cells": [
    {
      "cell_type": "code",
      "metadata": {
        "id": "0oKvkEPKjgzv",
        "colab_type": "code",
        "outputId": "bbe8ff40-bc53-4e1d-cb04-978bc6504a4d",
        "colab": {
          "base_uri": "https://localhost:8080/",
          "height": 33
        }
      },
      "source": [
        "%tensorflow_version 2.x"
      ],
      "execution_count": 0,
      "outputs": [
        {
          "output_type": "stream",
          "text": [
            "TensorFlow 2.x selected.\n"
          ],
          "name": "stdout"
        }
      ]
    },
    {
      "cell_type": "code",
      "metadata": {
        "id": "TQZr9U4Xjn3n",
        "colab_type": "code",
        "outputId": "f2e0f90f-48b8-4161-c968-48ffac27df8f",
        "colab": {
          "base_uri": "https://localhost:8080/",
          "height": 33
        }
      },
      "source": [
        "from google.colab import drive\n",
        "drive.mount('/content/drive')"
      ],
      "execution_count": 0,
      "outputs": [
        {
          "output_type": "stream",
          "text": [
            "Drive already mounted at /content/drive; to attempt to forcibly remount, call drive.mount(\"/content/drive\", force_remount=True).\n"
          ],
          "name": "stdout"
        }
      ]
    },
    {
      "cell_type": "code",
      "metadata": {
        "id": "J_kqs6WLjocW",
        "colab_type": "code",
        "outputId": "fb11978c-ab35-4784-d259-96eede03b93d",
        "colab": {
          "base_uri": "https://localhost:8080/",
          "height": 33
        }
      },
      "source": [
        "import numpy as np\n",
        "import pandas as pd\n",
        "import tensorflow as tf\n",
        "import matplotlib.pyplot as plt\n",
        "print(\"ok\")"
      ],
      "execution_count": 0,
      "outputs": [
        {
          "output_type": "stream",
          "text": [
            "ok\n"
          ],
          "name": "stdout"
        }
      ]
    },
    {
      "cell_type": "code",
      "metadata": {
        "id": "8BXoZIsmjoxC",
        "colab_type": "code",
        "colab": {}
      },
      "source": [
        "def submission(y_test_pred, sample,submission_name):\n",
        "  #creates a submission file given Original test set for ID and the predictions\n",
        "  test_id=(sample.to_numpy())[:,0]\n",
        "\n",
        "  submission={\"Id\": test_id ,\n",
        "              \"y\": y_test_pred.flatten()\n",
        "             }\n",
        "  submission=pd.DataFrame(submission)\n",
        "  print(submission.head())\n",
        "\n",
        "  submission.to_csv(submission_name)"
      ],
      "execution_count": 0,
      "outputs": []
    },
    {
      "cell_type": "code",
      "metadata": {
        "id": "GGIspeZ1jpGo",
        "colab_type": "code",
        "colab": {}
      },
      "source": [
        "train_eeg1=pd.read_csv(\"/content/drive/My Drive/Third year/Advanced Machine Learning/task4/train_eeg1.csv\")\n",
        "train_eeg2=pd.read_csv(\"/content/drive/My Drive/Third year/Advanced Machine Learning/task4/train_eeg2.csv\")\n",
        "train_emg=pd.read_csv(\"/content/drive/My Drive/Third year/Advanced Machine Learning/task4/train_emg.csv\")\n",
        "train_labels=pd.read_csv(\"/content/drive/My Drive/Third year/Advanced Machine Learning/task4/train_labels.csv\")\n",
        "\n",
        "test_eeg1=pd.read_csv(\"/content/drive/My Drive/Third year/Advanced Machine Learning/task4/test_eeg1.csv\")\n",
        "test_eeg2=pd.read_csv(\"/content/drive/My Drive/Third year/Advanced Machine Learning/task4/test_eeg2.csv\")\n",
        "test_emg=pd.read_csv(\"/content/drive/My Drive/Third year/Advanced Machine Learning/task4/test_emg.csv\")\n",
        "\n",
        "sample=pd.read_csv(\"/content/drive/My Drive/Third year/Advanced Machine Learning/task4/sample.csv\")"
      ],
      "execution_count": 0,
      "outputs": []
    },
    {
      "cell_type": "code",
      "metadata": {
        "id": "Kh1sqez_jy8B",
        "colab_type": "code",
        "colab": {}
      },
      "source": [
        "train_eeg1_numpy=np.expand_dims(train_eeg1.to_numpy()[:,1:],-1)\n",
        "train_eeg2_numpy=np.expand_dims(train_eeg2.to_numpy()[:,1:],-1)\n",
        "train_emg_numpy=np.expand_dims(train_emg.to_numpy()[:,1:],-1)\n",
        "train_labels_numpy=train_labels.to_numpy()[:,1:]\n",
        "\n",
        "test_eeg1_numpy=np.expand_dims(test_eeg1.to_numpy()[:,1:],-1)\n",
        "test_eeg2_numpy=np.expand_dims(test_eeg2.to_numpy()[:,1:],-1)\n",
        "test_emg_numpy=np.expand_dims(test_emg.to_numpy()[:,1:],-1)"
      ],
      "execution_count": 0,
      "outputs": []
    },
    {
      "cell_type": "code",
      "metadata": {
        "id": "5IcbA0WonSz8",
        "colab_type": "code",
        "colab": {}
      },
      "source": [
        "\n",
        "train_labels_numpy[np.where(train_labels_numpy==1)]=0\n",
        "train_labels_numpy[np.where(train_labels_numpy==2)]=1\n",
        "train_labels_numpy[np.where(train_labels_numpy==3)]=2"
      ],
      "execution_count": 0,
      "outputs": []
    },
    {
      "cell_type": "code",
      "metadata": {
        "id": "PdijmIh2j4Mg",
        "colab_type": "code",
        "outputId": "4d2d8e18-f09a-434f-e564-3b2be8db5351",
        "colab": {
          "base_uri": "https://localhost:8080/",
          "height": 33
        }
      },
      "source": [
        "train_all_channels=np.concatenate((train_eeg1_numpy,train_eeg2_numpy,train_emg_numpy),axis=2)\n",
        "train_all_channels.shape"
      ],
      "execution_count": 0,
      "outputs": [
        {
          "output_type": "execute_result",
          "data": {
            "text/plain": [
              "(64800, 512, 3)"
            ]
          },
          "metadata": {
            "tags": []
          },
          "execution_count": 8
        }
      ]
    },
    {
      "cell_type": "code",
      "metadata": {
        "id": "Bl98oQ6dj8gH",
        "colab_type": "code",
        "outputId": "9dacb6f3-2397-4328-98a1-ee0dac4585ae",
        "colab": {
          "base_uri": "https://localhost:8080/",
          "height": 33
        }
      },
      "source": [
        "test_all_channels=np.concatenate((test_eeg1_numpy,test_eeg2_numpy,test_emg_numpy),axis=2)\n",
        "test_all_channels.shape"
      ],
      "execution_count": 0,
      "outputs": [
        {
          "output_type": "execute_result",
          "data": {
            "text/plain": [
              "(43200, 512, 3)"
            ]
          },
          "metadata": {
            "tags": []
          },
          "execution_count": 9
        }
      ]
    },
    {
      "cell_type": "code",
      "metadata": {
        "id": "cPI9N-hUvsDM",
        "colab_type": "code",
        "colab": {}
      },
      "source": [
        "del train_eeg1\n",
        "del train_eeg2\n",
        "del train_emg\n",
        "\n",
        "del test_eeg1\n",
        "del test_eeg2\n",
        "del test_emg\n",
        "\n",
        "del train_eeg1_numpy\n",
        "del train_eeg2_numpy\n",
        "del train_emg_numpy\n",
        "\n",
        "del test_eeg1_numpy\n",
        "del test_eeg2_numpy\n",
        "del test_emg_numpy\n",
        "\n",
        "\n"
      ],
      "execution_count": 0,
      "outputs": []
    },
    {
      "cell_type": "code",
      "metadata": {
        "id": "0JZxa5oHwEv2",
        "colab_type": "code",
        "outputId": "43a20129-2476-4e23-e445-9ea3f0eb31f7",
        "colab": {
          "base_uri": "https://localhost:8080/",
          "height": 33
        }
      },
      "source": [
        "import gc\n",
        "gc.collect()"
      ],
      "execution_count": 0,
      "outputs": [
        {
          "output_type": "execute_result",
          "data": {
            "text/plain": [
              "22"
            ]
          },
          "metadata": {
            "tags": []
          },
          "execution_count": 11
        }
      ]
    },
    {
      "cell_type": "code",
      "metadata": {
        "id": "pj5dS0oaj-3L",
        "colab_type": "code",
        "colab": {}
      },
      "source": [
        "#n defines the number of samples we append before and after each samples (2x)\n",
        "n=2\n",
        "n_times=512*(2*n+1)\n",
        "augmented_train=np.empty((64800,n_times,3)) #512x2xn+512=1536\n",
        "zeros=np.zeros((512,3))\n",
        "for i in range(train_all_channels.shape[0]):\n",
        "  row=np.empty((0,3))\n",
        "  row2=np.empty((n_times,3))\n",
        "  if i<1:\n",
        "    for j in range(n-i):\n",
        "      row=np.concatenate((row,zeros),axis=0)\n",
        "    for j in range(i):\n",
        "      row=np.concatenate((row,train_all_channels[j]),axis=0)\n",
        "    for j in range(n+1):\n",
        "      row=np.concatenate((row,train_all_channels[i+j]),axis=0)\n",
        "    augmented_train[i]=row\n",
        "    previous_row=row\n",
        "    continue\n",
        "  \n",
        "  elif i>(64800-(n+1)):\n",
        "    for j in range(n):\n",
        "      row=np.concatenate((row,train_all_channels[i-(j+1)]),axis=0)\n",
        "    for j in range(i,64800):\n",
        "      row=np.concatenate((row,train_all_channels[j]),axis=0)\n",
        "    for j in range(n-(64800-i)+1):\n",
        "      row=np.concatenate((row,zeros),axis=0)\n",
        "    augmented_train[i]=row\n",
        "    previous_row=row\n",
        "    continue\n",
        "  \n",
        "  row2[:n_times-512]=previous_row[512:]\n",
        "  row2[n_times-512:]=train_all_channels[i+1]\n",
        "  augmented_train[i]=row2\n",
        "  previous_row=row2\n",
        "  \n",
        "\n"
      ],
      "execution_count": 0,
      "outputs": []
    },
    {
      "cell_type": "code",
      "metadata": {
        "id": "6oULlddKkHti",
        "colab_type": "code",
        "colab": {}
      },
      "source": [
        "\n",
        "augmented_test=np.empty((43200,n_times,3)) #512x2xn+512=1536\n",
        "zeros=np.zeros((512,3))\n",
        "for i in range(test_all_channels.shape[0]):\n",
        "  row=np.empty((0,3))\n",
        "  row2=np.empty((n_times,3))\n",
        "  if i<1:\n",
        "    for j in range(n-i):\n",
        "      row=np.concatenate((row,zeros),axis=0)\n",
        "    for j in range(i):\n",
        "      row=np.concatenate((row,test_all_channels[j]),axis=0)\n",
        "    for j in range(n+1):\n",
        "      row=np.concatenate((row,test_all_channels[i+j]),axis=0)\n",
        "    augmented_test[i]=row\n",
        "    previous_row=row\n",
        "    continue\n",
        "  \n",
        "  elif i>(43200-(n+1)):\n",
        "    for j in range(n):\n",
        "      row=np.concatenate((row,test_all_channels[i-(j+1)]),axis=0)\n",
        "    for j in range(i,43200):\n",
        "      row=np.concatenate((row,test_all_channels[j]),axis=0)\n",
        "    for j in range(n-(43200-i)+1):\n",
        "      row=np.concatenate((row,zeros),axis=0)\n",
        "    augmented_test[i]=row\n",
        "    previous_row=row\n",
        "    continue\n",
        "  \n",
        "  row2[:(n_times-512)]=previous_row[512:]\n",
        "  row2[n_times-512:]=test_all_channels[i+1]\n",
        "  augmented_test[i]=row2\n",
        "  previous_row=row2\n",
        "\n"
      ],
      "execution_count": 0,
      "outputs": []
    },
    {
      "cell_type": "code",
      "metadata": {
        "id": "hgJazWgmkEe1",
        "colab_type": "code",
        "outputId": "0f4feeb5-cde5-4854-9117-9d0da9772845",
        "colab": {
          "base_uri": "https://localhost:8080/",
          "height": 33
        }
      },
      "source": [
        "augmented_train.shape"
      ],
      "execution_count": 0,
      "outputs": [
        {
          "output_type": "execute_result",
          "data": {
            "text/plain": [
              "(64800, 2560, 3)"
            ]
          },
          "metadata": {
            "tags": []
          },
          "execution_count": 14
        }
      ]
    },
    {
      "cell_type": "code",
      "metadata": {
        "id": "cDi2Ok-8nGEW",
        "colab_type": "code",
        "outputId": "589256e8-560e-4849-fce1-5925c5eeda1d",
        "colab": {
          "base_uri": "https://localhost:8080/",
          "height": 33
        }
      },
      "source": [
        "augmented_test.shape"
      ],
      "execution_count": 0,
      "outputs": [
        {
          "output_type": "execute_result",
          "data": {
            "text/plain": [
              "(43200, 2560, 3)"
            ]
          },
          "metadata": {
            "tags": []
          },
          "execution_count": 15
        }
      ]
    },
    {
      "cell_type": "code",
      "metadata": {
        "id": "MYUkYCAhvgv6",
        "colab_type": "code",
        "colab": {}
      },
      "source": [
        "del train_all_channels\n",
        "del test_all_channels"
      ],
      "execution_count": 0,
      "outputs": []
    },
    {
      "cell_type": "code",
      "metadata": {
        "id": "P_3QCBcivf2z",
        "colab_type": "code",
        "outputId": "dc2e483f-6f31-4405-8220-a699c5da4734",
        "colab": {
          "base_uri": "https://localhost:8080/",
          "height": 33
        }
      },
      "source": [
        "\n",
        "gc.collect()"
      ],
      "execution_count": 0,
      "outputs": [
        {
          "output_type": "execute_result",
          "data": {
            "text/plain": [
              "0"
            ]
          },
          "metadata": {
            "tags": []
          },
          "execution_count": 17
        }
      ]
    },
    {
      "cell_type": "code",
      "metadata": {
        "id": "HjNugk6FkQ-m",
        "colab_type": "code",
        "outputId": "ea3d7bc8-2ccf-435d-d3d9-f208a398fe5e",
        "colab": {
          "base_uri": "https://localhost:8080/",
          "height": 66
        }
      },
      "source": [
        "pip install -U mne"
      ],
      "execution_count": 0,
      "outputs": [
        {
          "output_type": "stream",
          "text": [
            "Requirement already up-to-date: mne in /usr/local/lib/python3.6/dist-packages (0.19.2)\n",
            "Requirement already satisfied, skipping upgrade: scipy>=0.17.1 in /usr/local/lib/python3.6/dist-packages (from mne) (1.3.3)\n",
            "Requirement already satisfied, skipping upgrade: numpy>=1.11.3 in /tensorflow-2.0.0/python3.6 (from mne) (1.17.4)\n"
          ],
          "name": "stdout"
        }
      ]
    },
    {
      "cell_type": "code",
      "metadata": {
        "id": "vpCpVNR2kRcH",
        "colab_type": "code",
        "outputId": "4f24ad7e-62d6-4d50-b05c-62a91c81e1ff",
        "colab": {
          "base_uri": "https://localhost:8080/",
          "height": 70
        }
      },
      "source": [
        "from mne.time_frequency import tfr_stockwell\n",
        "from mne import EpochsArray,create_info\n",
        "\n",
        "import mne\n",
        "from mne.time_frequency import psd_welch\n",
        "\n",
        "from sklearn.ensemble import RandomForestClassifier\n",
        "from sklearn.metrics import accuracy_score\n",
        "from sklearn.metrics import confusion_matrix\n",
        "from sklearn.metrics import classification_report\n",
        "from sklearn.pipeline import make_pipeline\n",
        "from sklearn.preprocessing import FunctionTransformer"
      ],
      "execution_count": 0,
      "outputs": [
        {
          "output_type": "stream",
          "text": [
            "/usr/local/lib/python3.6/dist-packages/numba/decorators.py:146: RuntimeWarning: Caching is not available when the 'parallel' target is in use. Caching is now being disabled to allow execution to continue.\n",
            "  warnings.warn(msg, RuntimeWarning)\n"
          ],
          "name": "stderr"
        }
      ]
    },
    {
      "cell_type": "code",
      "metadata": {
        "id": "IXXMR0yikWZ4",
        "colab_type": "code",
        "colab": {}
      },
      "source": [
        "def extract_freq_bands(epochs):\n",
        "    # specific frequency bands\n",
        "    FREQ_BANDS = {\"delta\": [0.5, 4.5],\n",
        "                  \"theta\": [4.5, 8.5],\n",
        "                  \"alpha\": [8.5, 11.5],\n",
        "                  \"sigma\": [11.5, 15.5],\n",
        "                  \"beta\": [15.5, 30]}\n",
        "\n",
        "    psds, freqs = psd_welch(epochs, picks='eeg', fmin=0.5, fmax=30.)\n",
        "    # Normalize the PSDs\n",
        "    psds /= np.sum(psds, axis=-1, keepdims=True)\n",
        "\n",
        "    X = []\n",
        "    for fmin, fmax in FREQ_BANDS.values():\n",
        "        psds_band = psds[:, :, (freqs >= fmin) & (freqs < fmax)].mean(axis=-1)\n",
        "        X.append(psds_band.reshape(len(psds), -1))\n",
        "    \n",
        "    final=np.concatenate(X, axis=1)\n",
        "    final=np.nan_to_num(final)\n",
        "\n",
        "    return final"
      ],
      "execution_count": 0,
      "outputs": []
    },
    {
      "cell_type": "code",
      "metadata": {
        "id": "_58EbUZtk5k1",
        "colab_type": "code",
        "colab": {}
      },
      "source": [
        "label2=augmented_train[np.where(train_labels_numpy==2)[0],:]\n",
        "augmented_train=np.concatenate([augmented_train,label2,label2,label2,label2,label2,label2,label2,label2,label2,label2,label2])\n",
        "two=np.expand_dims(2*np.ones(label2.shape[0]),-1)\n",
        "train_labels_numpy_aug=np.concatenate([train_labels_numpy,two,two,two,two,two,two,two,two,two,two,two])"
      ],
      "execution_count": 0,
      "outputs": []
    },
    {
      "cell_type": "code",
      "metadata": {
        "id": "36L7a0Lwxa4d",
        "colab_type": "code",
        "colab": {}
      },
      "source": [
        "del label2"
      ],
      "execution_count": 0,
      "outputs": []
    },
    {
      "cell_type": "code",
      "metadata": {
        "id": "ek0QbDIzxfNp",
        "colab_type": "code",
        "outputId": "7485fc9b-6937-409b-aa9c-57c5156cab21",
        "colab": {
          "base_uri": "https://localhost:8080/",
          "height": 33
        }
      },
      "source": [
        "gc.collect()"
      ],
      "execution_count": 0,
      "outputs": [
        {
          "output_type": "execute_result",
          "data": {
            "text/plain": [
              "0"
            ]
          },
          "metadata": {
            "tags": []
          },
          "execution_count": 23
        }
      ]
    },
    {
      "cell_type": "code",
      "metadata": {
        "id": "pIIAxRKHpDwI",
        "colab_type": "code",
        "outputId": "40d8eff0-31e8-4014-b10c-200cf6c5531f",
        "colab": {
          "base_uri": "https://localhost:8080/",
          "height": 33
        }
      },
      "source": [
        "augmented_train.shape"
      ],
      "execution_count": 0,
      "outputs": [
        {
          "output_type": "execute_result",
          "data": {
            "text/plain": [
              "(103883, 2560, 3)"
            ]
          },
          "metadata": {
            "tags": []
          },
          "execution_count": 24
        }
      ]
    },
    {
      "cell_type": "code",
      "metadata": {
        "id": "zwkZeneDpFXA",
        "colab_type": "code",
        "outputId": "d93b7fc6-c9f9-4576-f27a-768cec253872",
        "colab": {
          "base_uri": "https://localhost:8080/",
          "height": 33
        }
      },
      "source": [
        "train_labels_numpy_aug.shape"
      ],
      "execution_count": 0,
      "outputs": [
        {
          "output_type": "execute_result",
          "data": {
            "text/plain": [
              "(103883, 1)"
            ]
          },
          "metadata": {
            "tags": []
          },
          "execution_count": 25
        }
      ]
    },
    {
      "cell_type": "code",
      "metadata": {
        "id": "bmjWcaD7lKpp",
        "colab_type": "code",
        "outputId": "881f4eda-2c82-47c6-d6ab-5f187539fc29",
        "colab": {
          "base_uri": "https://localhost:8080/",
          "height": 98
        }
      },
      "source": [
        "ch_names=[\"eeg1\",\"eeg2\",\"emg\"]\n",
        "ch_types=[\"eeg\",\"eeg\",\"emg\"]\n",
        "sfreq=128\n",
        "info=create_info(ch_names=ch_names,sfreq=sfreq,ch_types=ch_types)\n",
        "epochs=EpochsArray(np.reshape(augmented_train,(103883,3,n_times)),info=info)"
      ],
      "execution_count": 0,
      "outputs": [
        {
          "output_type": "stream",
          "text": [
            "103883 matching events found\n",
            "No baseline correction applied\n",
            "Not setting metadata\n",
            "0 projection items activated\n",
            "0 bad epochs dropped\n"
          ],
          "name": "stdout"
        }
      ]
    },
    {
      "cell_type": "code",
      "metadata": {
        "id": "w0DVOtSRyRIr",
        "colab_type": "code",
        "colab": {}
      },
      "source": [
        "augmented_train=None\n",
        "del augmented_train"
      ],
      "execution_count": 0,
      "outputs": []
    },
    {
      "cell_type": "code",
      "metadata": {
        "id": "R31gt65-xKJd",
        "colab_type": "code",
        "outputId": "6cbd5ae6-ef06-4e48-e7bf-39459e7db094",
        "colab": {
          "base_uri": "https://localhost:8080/",
          "height": 33
        }
      },
      "source": [
        "gc.collect()"
      ],
      "execution_count": 0,
      "outputs": [
        {
          "output_type": "execute_result",
          "data": {
            "text/plain": [
              "0"
            ]
          },
          "metadata": {
            "tags": []
          },
          "execution_count": 28
        }
      ]
    },
    {
      "cell_type": "code",
      "metadata": {
        "id": "wXcY2lsa2KCJ",
        "colab_type": "code",
        "outputId": "3ceea82c-237b-46dd-dfb7-006cfd5081d9",
        "colab": {
          "base_uri": "https://localhost:8080/",
          "height": 158
        }
      },
      "source": [
        "epochs.shape"
      ],
      "execution_count": 0,
      "outputs": [
        {
          "output_type": "error",
          "ename": "AttributeError",
          "evalue": "ignored",
          "traceback": [
            "\u001b[0;31m---------------------------------------------------------------------------\u001b[0m",
            "\u001b[0;31mAttributeError\u001b[0m                            Traceback (most recent call last)",
            "\u001b[0;32m<ipython-input-29-94045dc8799e>\u001b[0m in \u001b[0;36m<module>\u001b[0;34m()\u001b[0m\n\u001b[0;32m----> 1\u001b[0;31m \u001b[0mepochs\u001b[0m\u001b[0;34m.\u001b[0m\u001b[0mshape\u001b[0m\u001b[0;34m\u001b[0m\u001b[0;34m\u001b[0m\u001b[0m\n\u001b[0m",
            "\u001b[0;31mAttributeError\u001b[0m: 'EpochsArray' object has no attribute 'shape'"
          ]
        }
      ]
    },
    {
      "cell_type": "code",
      "metadata": {
        "id": "IRffDqy12nLR",
        "colab_type": "code",
        "outputId": "aa67c6fa-d33c-4844-91b6-019c89201420",
        "colab": {
          "base_uri": "https://localhost:8080/",
          "height": 33
        }
      },
      "source": [
        "extracted=extract_freq_bands(epochs)"
      ],
      "execution_count": 0,
      "outputs": [
        {
          "output_type": "stream",
          "text": [
            "Effective window size : 2.000 (s)\n"
          ],
          "name": "stdout"
        }
      ]
    },
    {
      "cell_type": "code",
      "metadata": {
        "id": "oSGMQ6JZk4yA",
        "colab_type": "code",
        "outputId": "5fc61a88-e673-457f-d188-1e245f5c1d7d",
        "colab": {
          "base_uri": "https://localhost:8080/",
          "height": 413
        }
      },
      "source": [
        "\n",
        "\n",
        "pipe = make_pipeline(FunctionTransformer(extract_freq_bands, validate=False),\n",
        "                     RandomForestClassifier(n_estimators=100, random_state=42,max_depth=15))\n",
        "\n",
        "# Train\n",
        "\n",
        "pipe.fit(epochs, train_labels_numpy_aug)\n",
        "\n",
        "# Test\n",
        "y_pred = pipe.predict(epochs)\n",
        "\n",
        "# Assess the results\n",
        "y_test = train_labels_numpy_aug\n",
        "acc = accuracy_score(y_test,y_pred)\n",
        "\n",
        "print(\"Accuracy score: {}\".format(acc))"
      ],
      "execution_count": 0,
      "outputs": [
        {
          "output_type": "error",
          "ename": "KeyboardInterrupt",
          "evalue": "ignored",
          "traceback": [
            "\u001b[0;31m---------------------------------------------------------------------------\u001b[0m",
            "\u001b[0;31mKeyboardInterrupt\u001b[0m                         Traceback (most recent call last)",
            "\u001b[0;32m<ipython-input-29-04121262c714>\u001b[0m in \u001b[0;36m<module>\u001b[0;34m()\u001b[0m\n\u001b[1;32m      6\u001b[0m \u001b[0;31m# Train\u001b[0m\u001b[0;34m\u001b[0m\u001b[0;34m\u001b[0m\u001b[0;34m\u001b[0m\u001b[0m\n\u001b[1;32m      7\u001b[0m \u001b[0;34m\u001b[0m\u001b[0m\n\u001b[0;32m----> 8\u001b[0;31m \u001b[0mpipe\u001b[0m\u001b[0;34m.\u001b[0m\u001b[0mfit\u001b[0m\u001b[0;34m(\u001b[0m\u001b[0mepochs\u001b[0m\u001b[0;34m,\u001b[0m \u001b[0mtrain_labels_numpy_aug\u001b[0m\u001b[0;34m)\u001b[0m\u001b[0;34m\u001b[0m\u001b[0;34m\u001b[0m\u001b[0m\n\u001b[0m\u001b[1;32m      9\u001b[0m \u001b[0;34m\u001b[0m\u001b[0m\n\u001b[1;32m     10\u001b[0m \u001b[0;31m# Test\u001b[0m\u001b[0;34m\u001b[0m\u001b[0;34m\u001b[0m\u001b[0;34m\u001b[0m\u001b[0m\n",
            "\u001b[0;32m/usr/local/lib/python3.6/dist-packages/sklearn/pipeline.py\u001b[0m in \u001b[0;36mfit\u001b[0;34m(self, X, y, **fit_params)\u001b[0m\n\u001b[1;32m    350\u001b[0m             \u001b[0mThis\u001b[0m \u001b[0mestimator\u001b[0m\u001b[0;34m\u001b[0m\u001b[0;34m\u001b[0m\u001b[0m\n\u001b[1;32m    351\u001b[0m         \"\"\"\n\u001b[0;32m--> 352\u001b[0;31m         \u001b[0mXt\u001b[0m\u001b[0;34m,\u001b[0m \u001b[0mfit_params\u001b[0m \u001b[0;34m=\u001b[0m \u001b[0mself\u001b[0m\u001b[0;34m.\u001b[0m\u001b[0m_fit\u001b[0m\u001b[0;34m(\u001b[0m\u001b[0mX\u001b[0m\u001b[0;34m,\u001b[0m \u001b[0my\u001b[0m\u001b[0;34m,\u001b[0m \u001b[0;34m**\u001b[0m\u001b[0mfit_params\u001b[0m\u001b[0;34m)\u001b[0m\u001b[0;34m\u001b[0m\u001b[0;34m\u001b[0m\u001b[0m\n\u001b[0m\u001b[1;32m    353\u001b[0m         with _print_elapsed_time('Pipeline',\n\u001b[1;32m    354\u001b[0m                                  self._log_message(len(self.steps) - 1)):\n",
            "\u001b[0;32m/usr/local/lib/python3.6/dist-packages/sklearn/pipeline.py\u001b[0m in \u001b[0;36m_fit\u001b[0;34m(self, X, y, **fit_params)\u001b[0m\n\u001b[1;32m    315\u001b[0m                 \u001b[0mmessage_clsname\u001b[0m\u001b[0;34m=\u001b[0m\u001b[0;34m'Pipeline'\u001b[0m\u001b[0;34m,\u001b[0m\u001b[0;34m\u001b[0m\u001b[0;34m\u001b[0m\u001b[0m\n\u001b[1;32m    316\u001b[0m                 \u001b[0mmessage\u001b[0m\u001b[0;34m=\u001b[0m\u001b[0mself\u001b[0m\u001b[0;34m.\u001b[0m\u001b[0m_log_message\u001b[0m\u001b[0;34m(\u001b[0m\u001b[0mstep_idx\u001b[0m\u001b[0;34m)\u001b[0m\u001b[0;34m,\u001b[0m\u001b[0;34m\u001b[0m\u001b[0;34m\u001b[0m\u001b[0m\n\u001b[0;32m--> 317\u001b[0;31m                 **fit_params_steps[name])\n\u001b[0m\u001b[1;32m    318\u001b[0m             \u001b[0;31m# Replace the transformer of the step with the fitted\u001b[0m\u001b[0;34m\u001b[0m\u001b[0;34m\u001b[0m\u001b[0;34m\u001b[0m\u001b[0m\n\u001b[1;32m    319\u001b[0m             \u001b[0;31m# transformer. This is necessary when loading the transformer\u001b[0m\u001b[0;34m\u001b[0m\u001b[0;34m\u001b[0m\u001b[0;34m\u001b[0m\u001b[0m\n",
            "\u001b[0;32m/usr/local/lib/python3.6/dist-packages/joblib/memory.py\u001b[0m in \u001b[0;36m__call__\u001b[0;34m(self, *args, **kwargs)\u001b[0m\n\u001b[1;32m    353\u001b[0m \u001b[0;34m\u001b[0m\u001b[0m\n\u001b[1;32m    354\u001b[0m     \u001b[0;32mdef\u001b[0m \u001b[0m__call__\u001b[0m\u001b[0;34m(\u001b[0m\u001b[0mself\u001b[0m\u001b[0;34m,\u001b[0m \u001b[0;34m*\u001b[0m\u001b[0margs\u001b[0m\u001b[0;34m,\u001b[0m \u001b[0;34m**\u001b[0m\u001b[0mkwargs\u001b[0m\u001b[0;34m)\u001b[0m\u001b[0;34m:\u001b[0m\u001b[0;34m\u001b[0m\u001b[0;34m\u001b[0m\u001b[0m\n\u001b[0;32m--> 355\u001b[0;31m         \u001b[0;32mreturn\u001b[0m \u001b[0mself\u001b[0m\u001b[0;34m.\u001b[0m\u001b[0mfunc\u001b[0m\u001b[0;34m(\u001b[0m\u001b[0;34m*\u001b[0m\u001b[0margs\u001b[0m\u001b[0;34m,\u001b[0m \u001b[0;34m**\u001b[0m\u001b[0mkwargs\u001b[0m\u001b[0;34m)\u001b[0m\u001b[0;34m\u001b[0m\u001b[0;34m\u001b[0m\u001b[0m\n\u001b[0m\u001b[1;32m    356\u001b[0m \u001b[0;34m\u001b[0m\u001b[0m\n\u001b[1;32m    357\u001b[0m     \u001b[0;32mdef\u001b[0m \u001b[0mcall_and_shelve\u001b[0m\u001b[0;34m(\u001b[0m\u001b[0mself\u001b[0m\u001b[0;34m,\u001b[0m \u001b[0;34m*\u001b[0m\u001b[0margs\u001b[0m\u001b[0;34m,\u001b[0m \u001b[0;34m**\u001b[0m\u001b[0mkwargs\u001b[0m\u001b[0;34m)\u001b[0m\u001b[0;34m:\u001b[0m\u001b[0;34m\u001b[0m\u001b[0;34m\u001b[0m\u001b[0m\n",
            "\u001b[0;32m/usr/local/lib/python3.6/dist-packages/sklearn/pipeline.py\u001b[0m in \u001b[0;36m_fit_transform_one\u001b[0;34m(transformer, X, y, weight, message_clsname, message, **fit_params)\u001b[0m\n\u001b[1;32m    714\u001b[0m     \u001b[0;32mwith\u001b[0m \u001b[0m_print_elapsed_time\u001b[0m\u001b[0;34m(\u001b[0m\u001b[0mmessage_clsname\u001b[0m\u001b[0;34m,\u001b[0m \u001b[0mmessage\u001b[0m\u001b[0;34m)\u001b[0m\u001b[0;34m:\u001b[0m\u001b[0;34m\u001b[0m\u001b[0;34m\u001b[0m\u001b[0m\n\u001b[1;32m    715\u001b[0m         \u001b[0;32mif\u001b[0m \u001b[0mhasattr\u001b[0m\u001b[0;34m(\u001b[0m\u001b[0mtransformer\u001b[0m\u001b[0;34m,\u001b[0m \u001b[0;34m'fit_transform'\u001b[0m\u001b[0;34m)\u001b[0m\u001b[0;34m:\u001b[0m\u001b[0;34m\u001b[0m\u001b[0;34m\u001b[0m\u001b[0m\n\u001b[0;32m--> 716\u001b[0;31m             \u001b[0mres\u001b[0m \u001b[0;34m=\u001b[0m \u001b[0mtransformer\u001b[0m\u001b[0;34m.\u001b[0m\u001b[0mfit_transform\u001b[0m\u001b[0;34m(\u001b[0m\u001b[0mX\u001b[0m\u001b[0;34m,\u001b[0m \u001b[0my\u001b[0m\u001b[0;34m,\u001b[0m \u001b[0;34m**\u001b[0m\u001b[0mfit_params\u001b[0m\u001b[0;34m)\u001b[0m\u001b[0;34m\u001b[0m\u001b[0;34m\u001b[0m\u001b[0m\n\u001b[0m\u001b[1;32m    717\u001b[0m         \u001b[0;32melse\u001b[0m\u001b[0;34m:\u001b[0m\u001b[0;34m\u001b[0m\u001b[0;34m\u001b[0m\u001b[0m\n\u001b[1;32m    718\u001b[0m             \u001b[0mres\u001b[0m \u001b[0;34m=\u001b[0m \u001b[0mtransformer\u001b[0m\u001b[0;34m.\u001b[0m\u001b[0mfit\u001b[0m\u001b[0;34m(\u001b[0m\u001b[0mX\u001b[0m\u001b[0;34m,\u001b[0m \u001b[0my\u001b[0m\u001b[0;34m,\u001b[0m \u001b[0;34m**\u001b[0m\u001b[0mfit_params\u001b[0m\u001b[0;34m)\u001b[0m\u001b[0;34m.\u001b[0m\u001b[0mtransform\u001b[0m\u001b[0;34m(\u001b[0m\u001b[0mX\u001b[0m\u001b[0;34m)\u001b[0m\u001b[0;34m\u001b[0m\u001b[0;34m\u001b[0m\u001b[0m\n",
            "\u001b[0;32m/usr/local/lib/python3.6/dist-packages/sklearn/base.py\u001b[0m in \u001b[0;36mfit_transform\u001b[0;34m(self, X, y, **fit_params)\u001b[0m\n\u001b[1;32m    554\u001b[0m         \u001b[0;32melse\u001b[0m\u001b[0;34m:\u001b[0m\u001b[0;34m\u001b[0m\u001b[0;34m\u001b[0m\u001b[0m\n\u001b[1;32m    555\u001b[0m             \u001b[0;31m# fit method of arity 2 (supervised transformation)\u001b[0m\u001b[0;34m\u001b[0m\u001b[0;34m\u001b[0m\u001b[0;34m\u001b[0m\u001b[0m\n\u001b[0;32m--> 556\u001b[0;31m             \u001b[0;32mreturn\u001b[0m \u001b[0mself\u001b[0m\u001b[0;34m.\u001b[0m\u001b[0mfit\u001b[0m\u001b[0;34m(\u001b[0m\u001b[0mX\u001b[0m\u001b[0;34m,\u001b[0m \u001b[0my\u001b[0m\u001b[0;34m,\u001b[0m \u001b[0;34m**\u001b[0m\u001b[0mfit_params\u001b[0m\u001b[0;34m)\u001b[0m\u001b[0;34m.\u001b[0m\u001b[0mtransform\u001b[0m\u001b[0;34m(\u001b[0m\u001b[0mX\u001b[0m\u001b[0;34m)\u001b[0m\u001b[0;34m\u001b[0m\u001b[0;34m\u001b[0m\u001b[0m\n\u001b[0m\u001b[1;32m    557\u001b[0m \u001b[0;34m\u001b[0m\u001b[0m\n\u001b[1;32m    558\u001b[0m \u001b[0;34m\u001b[0m\u001b[0m\n",
            "\u001b[0;32m/usr/local/lib/python3.6/dist-packages/sklearn/preprocessing/_function_transformer.py\u001b[0m in \u001b[0;36mtransform\u001b[0;34m(self, X)\u001b[0m\n\u001b[1;32m    151\u001b[0m             \u001b[0mTransformed\u001b[0m \u001b[0minput\u001b[0m\u001b[0;34m.\u001b[0m\u001b[0;34m\u001b[0m\u001b[0;34m\u001b[0m\u001b[0m\n\u001b[1;32m    152\u001b[0m         \"\"\"\n\u001b[0;32m--> 153\u001b[0;31m         \u001b[0;32mreturn\u001b[0m \u001b[0mself\u001b[0m\u001b[0;34m.\u001b[0m\u001b[0m_transform\u001b[0m\u001b[0;34m(\u001b[0m\u001b[0mX\u001b[0m\u001b[0;34m,\u001b[0m \u001b[0mfunc\u001b[0m\u001b[0;34m=\u001b[0m\u001b[0mself\u001b[0m\u001b[0;34m.\u001b[0m\u001b[0mfunc\u001b[0m\u001b[0;34m,\u001b[0m \u001b[0mkw_args\u001b[0m\u001b[0;34m=\u001b[0m\u001b[0mself\u001b[0m\u001b[0;34m.\u001b[0m\u001b[0mkw_args\u001b[0m\u001b[0;34m)\u001b[0m\u001b[0;34m\u001b[0m\u001b[0;34m\u001b[0m\u001b[0m\n\u001b[0m\u001b[1;32m    154\u001b[0m \u001b[0;34m\u001b[0m\u001b[0m\n\u001b[1;32m    155\u001b[0m     \u001b[0;32mdef\u001b[0m \u001b[0minverse_transform\u001b[0m\u001b[0;34m(\u001b[0m\u001b[0mself\u001b[0m\u001b[0;34m,\u001b[0m \u001b[0mX\u001b[0m\u001b[0;34m)\u001b[0m\u001b[0;34m:\u001b[0m\u001b[0;34m\u001b[0m\u001b[0;34m\u001b[0m\u001b[0m\n",
            "\u001b[0;32m/usr/local/lib/python3.6/dist-packages/sklearn/preprocessing/_function_transformer.py\u001b[0m in \u001b[0;36m_transform\u001b[0;34m(self, X, func, kw_args)\u001b[0m\n\u001b[1;32m    177\u001b[0m             \u001b[0mfunc\u001b[0m \u001b[0;34m=\u001b[0m \u001b[0m_identity\u001b[0m\u001b[0;34m\u001b[0m\u001b[0;34m\u001b[0m\u001b[0m\n\u001b[1;32m    178\u001b[0m \u001b[0;34m\u001b[0m\u001b[0m\n\u001b[0;32m--> 179\u001b[0;31m         \u001b[0;32mreturn\u001b[0m \u001b[0mfunc\u001b[0m\u001b[0;34m(\u001b[0m\u001b[0mX\u001b[0m\u001b[0;34m,\u001b[0m \u001b[0;34m**\u001b[0m\u001b[0;34m(\u001b[0m\u001b[0mkw_args\u001b[0m \u001b[0;32mif\u001b[0m \u001b[0mkw_args\u001b[0m \u001b[0;32melse\u001b[0m \u001b[0;34m{\u001b[0m\u001b[0;34m}\u001b[0m\u001b[0;34m)\u001b[0m\u001b[0;34m)\u001b[0m\u001b[0;34m\u001b[0m\u001b[0;34m\u001b[0m\u001b[0m\n\u001b[0m\u001b[1;32m    180\u001b[0m \u001b[0;34m\u001b[0m\u001b[0m\n\u001b[1;32m    181\u001b[0m     \u001b[0;32mdef\u001b[0m \u001b[0m_more_tags\u001b[0m\u001b[0;34m(\u001b[0m\u001b[0mself\u001b[0m\u001b[0;34m)\u001b[0m\u001b[0;34m:\u001b[0m\u001b[0;34m\u001b[0m\u001b[0;34m\u001b[0m\u001b[0m\n",
            "\u001b[0;32m<ipython-input-20-d3c02828c6da>\u001b[0m in \u001b[0;36mextract_freq_bands\u001b[0;34m(epochs)\u001b[0m\n\u001b[1;32m      7\u001b[0m                   \"beta\": [15.5, 30]}\n\u001b[1;32m      8\u001b[0m \u001b[0;34m\u001b[0m\u001b[0m\n\u001b[0;32m----> 9\u001b[0;31m     \u001b[0mpsds\u001b[0m\u001b[0;34m,\u001b[0m \u001b[0mfreqs\u001b[0m \u001b[0;34m=\u001b[0m \u001b[0mpsd_welch\u001b[0m\u001b[0;34m(\u001b[0m\u001b[0mepochs\u001b[0m\u001b[0;34m,\u001b[0m \u001b[0mpicks\u001b[0m\u001b[0;34m=\u001b[0m\u001b[0;34m'eeg'\u001b[0m\u001b[0;34m,\u001b[0m \u001b[0mfmin\u001b[0m\u001b[0;34m=\u001b[0m\u001b[0;36m0.5\u001b[0m\u001b[0;34m,\u001b[0m \u001b[0mfmax\u001b[0m\u001b[0;34m=\u001b[0m\u001b[0;36m30.\u001b[0m\u001b[0;34m)\u001b[0m\u001b[0;34m\u001b[0m\u001b[0;34m\u001b[0m\u001b[0m\n\u001b[0m\u001b[1;32m     10\u001b[0m     \u001b[0;31m# Normalize the PSDs\u001b[0m\u001b[0;34m\u001b[0m\u001b[0;34m\u001b[0m\u001b[0;34m\u001b[0m\u001b[0m\n\u001b[1;32m     11\u001b[0m     \u001b[0mpsds\u001b[0m \u001b[0;34m/=\u001b[0m \u001b[0mnp\u001b[0m\u001b[0;34m.\u001b[0m\u001b[0msum\u001b[0m\u001b[0;34m(\u001b[0m\u001b[0mpsds\u001b[0m\u001b[0;34m,\u001b[0m \u001b[0maxis\u001b[0m\u001b[0;34m=\u001b[0m\u001b[0;34m-\u001b[0m\u001b[0;36m1\u001b[0m\u001b[0;34m,\u001b[0m \u001b[0mkeepdims\u001b[0m\u001b[0;34m=\u001b[0m\u001b[0;32mTrue\u001b[0m\u001b[0;34m)\u001b[0m\u001b[0;34m\u001b[0m\u001b[0;34m\u001b[0m\u001b[0m\n",
            "\u001b[0;32m</usr/local/lib/python3.6/dist-packages/mne/externals/decorator.py:decorator-gen-74>\u001b[0m in \u001b[0;36mpsd_welch\u001b[0;34m(inst, fmin, fmax, tmin, tmax, n_fft, n_overlap, n_per_seg, picks, proj, n_jobs, reject_by_annotation, average, verbose)\u001b[0m\n",
            "\u001b[0;32m/usr/local/lib/python3.6/dist-packages/mne/utils/_logging.py\u001b[0m in \u001b[0;36mwrapper\u001b[0;34m(*args, **kwargs)\u001b[0m\n\u001b[1;32m     88\u001b[0m             \u001b[0;32mwith\u001b[0m \u001b[0muse_log_level\u001b[0m\u001b[0;34m(\u001b[0m\u001b[0mverbose_level\u001b[0m\u001b[0;34m)\u001b[0m\u001b[0;34m:\u001b[0m\u001b[0;34m\u001b[0m\u001b[0;34m\u001b[0m\u001b[0m\n\u001b[1;32m     89\u001b[0m                 \u001b[0;32mreturn\u001b[0m \u001b[0mfunction\u001b[0m\u001b[0;34m(\u001b[0m\u001b[0;34m*\u001b[0m\u001b[0margs\u001b[0m\u001b[0;34m,\u001b[0m \u001b[0;34m**\u001b[0m\u001b[0mkwargs\u001b[0m\u001b[0;34m)\u001b[0m\u001b[0;34m\u001b[0m\u001b[0;34m\u001b[0m\u001b[0m\n\u001b[0;32m---> 90\u001b[0;31m         \u001b[0;32mreturn\u001b[0m \u001b[0mfunction\u001b[0m\u001b[0;34m(\u001b[0m\u001b[0;34m*\u001b[0m\u001b[0margs\u001b[0m\u001b[0;34m,\u001b[0m \u001b[0;34m**\u001b[0m\u001b[0mkwargs\u001b[0m\u001b[0;34m)\u001b[0m\u001b[0;34m\u001b[0m\u001b[0;34m\u001b[0m\u001b[0m\n\u001b[0m\u001b[1;32m     91\u001b[0m     return FunctionMaker.create(\n\u001b[1;32m     92\u001b[0m         \u001b[0mfunction\u001b[0m\u001b[0;34m,\u001b[0m \u001b[0;34m'return decfunc(%(signature)s)'\u001b[0m\u001b[0;34m,\u001b[0m\u001b[0;34m\u001b[0m\u001b[0;34m\u001b[0m\u001b[0m\n",
            "\u001b[0;32m/usr/local/lib/python3.6/dist-packages/mne/time_frequency/psd.py\u001b[0m in \u001b[0;36mpsd_welch\u001b[0;34m(inst, fmin, fmax, tmin, tmax, n_fft, n_overlap, n_per_seg, picks, proj, n_jobs, reject_by_annotation, average, verbose)\u001b[0m\n\u001b[1;32m    230\u001b[0m     \u001b[0;31m# Prep data\u001b[0m\u001b[0;34m\u001b[0m\u001b[0;34m\u001b[0m\u001b[0;34m\u001b[0m\u001b[0m\n\u001b[1;32m    231\u001b[0m     data, sfreq = _check_psd_data(inst, tmin, tmax, picks, proj,\n\u001b[0;32m--> 232\u001b[0;31m                                   reject_by_annotation=reject_by_annotation)\n\u001b[0m\u001b[1;32m    233\u001b[0m     return psd_array_welch(data, sfreq, fmin=fmin, fmax=fmax, n_fft=n_fft,\n\u001b[1;32m    234\u001b[0m                            \u001b[0mn_overlap\u001b[0m\u001b[0;34m=\u001b[0m\u001b[0mn_overlap\u001b[0m\u001b[0;34m,\u001b[0m \u001b[0mn_per_seg\u001b[0m\u001b[0;34m=\u001b[0m\u001b[0mn_per_seg\u001b[0m\u001b[0;34m,\u001b[0m\u001b[0;34m\u001b[0m\u001b[0;34m\u001b[0m\u001b[0m\n",
            "\u001b[0;32m/usr/local/lib/python3.6/dist-packages/mne/time_frequency/psd.py\u001b[0m in \u001b[0;36m_check_psd_data\u001b[0;34m(inst, tmin, tmax, picks, proj, reject_by_annotation)\u001b[0m\n\u001b[1;32m     62\u001b[0m         \u001b[0mdata\u001b[0m \u001b[0;34m=\u001b[0m \u001b[0minst\u001b[0m\u001b[0;34m.\u001b[0m\u001b[0mget_data\u001b[0m\u001b[0;34m(\u001b[0m\u001b[0mpicks\u001b[0m\u001b[0;34m,\u001b[0m \u001b[0mstart\u001b[0m\u001b[0;34m,\u001b[0m \u001b[0mstop\u001b[0m \u001b[0;34m+\u001b[0m \u001b[0;36m1\u001b[0m\u001b[0;34m,\u001b[0m \u001b[0mreject_by_annotation\u001b[0m\u001b[0;34m=\u001b[0m\u001b[0mrba\u001b[0m\u001b[0;34m)\u001b[0m\u001b[0;34m\u001b[0m\u001b[0;34m\u001b[0m\u001b[0m\n\u001b[1;32m     63\u001b[0m     \u001b[0;32melif\u001b[0m \u001b[0misinstance\u001b[0m\u001b[0;34m(\u001b[0m\u001b[0minst\u001b[0m\u001b[0;34m,\u001b[0m \u001b[0mBaseEpochs\u001b[0m\u001b[0;34m)\u001b[0m\u001b[0;34m:\u001b[0m\u001b[0;34m\u001b[0m\u001b[0;34m\u001b[0m\u001b[0m\n\u001b[0;32m---> 64\u001b[0;31m         \u001b[0mdata\u001b[0m \u001b[0;34m=\u001b[0m \u001b[0minst\u001b[0m\u001b[0;34m.\u001b[0m\u001b[0mget_data\u001b[0m\u001b[0;34m(\u001b[0m\u001b[0mpicks\u001b[0m\u001b[0;34m=\u001b[0m\u001b[0mpicks\u001b[0m\u001b[0;34m)\u001b[0m\u001b[0;34m[\u001b[0m\u001b[0;34m:\u001b[0m\u001b[0;34m,\u001b[0m \u001b[0;34m:\u001b[0m\u001b[0;34m,\u001b[0m \u001b[0mtime_mask\u001b[0m\u001b[0;34m]\u001b[0m\u001b[0;34m\u001b[0m\u001b[0;34m\u001b[0m\u001b[0m\n\u001b[0m\u001b[1;32m     65\u001b[0m     \u001b[0;32melse\u001b[0m\u001b[0;34m:\u001b[0m  \u001b[0;31m# Evoked\u001b[0m\u001b[0;34m\u001b[0m\u001b[0;34m\u001b[0m\u001b[0m\n\u001b[1;32m     66\u001b[0m         \u001b[0mdata\u001b[0m \u001b[0;34m=\u001b[0m \u001b[0minst\u001b[0m\u001b[0;34m.\u001b[0m\u001b[0mdata\u001b[0m\u001b[0;34m[\u001b[0m\u001b[0mpicks\u001b[0m\u001b[0;34m]\u001b[0m\u001b[0;34m[\u001b[0m\u001b[0;34m:\u001b[0m\u001b[0;34m,\u001b[0m \u001b[0mtime_mask\u001b[0m\u001b[0;34m]\u001b[0m\u001b[0;34m\u001b[0m\u001b[0;34m\u001b[0m\u001b[0m\n",
            "\u001b[0;31mKeyboardInterrupt\u001b[0m: "
          ]
        }
      ]
    },
    {
      "cell_type": "code",
      "metadata": {
        "id": "cHALfQc5tjpb",
        "colab_type": "code",
        "outputId": "9900d817-ba35-4bd2-f534-730117cc2eed",
        "colab": {
          "base_uri": "https://localhost:8080/",
          "height": 147
        }
      },
      "source": [
        "epochs_test=EpochsArray(np.reshape(augmented_test,(43200,3,n_times)),info=info)\n",
        "y_pred_test=pipe.predict(epochs_test)"
      ],
      "execution_count": 0,
      "outputs": [
        {
          "output_type": "stream",
          "text": [
            "43200 matching events found\n",
            "No baseline correction applied\n",
            "Not setting metadata\n",
            "0 projection items activated\n",
            "0 bad epochs dropped\n",
            "Effective window size : 2.000 (s)\n"
          ],
          "name": "stdout"
        },
        {
          "output_type": "stream",
          "text": [
            "/usr/local/lib/python3.6/dist-packages/ipykernel_launcher.py:11: RuntimeWarning: invalid value encountered in true_divide\n",
            "  # This is added back by InteractiveShellApp.init_path()\n"
          ],
          "name": "stderr"
        }
      ]
    },
    {
      "cell_type": "code",
      "metadata": {
        "id": "Ot779tsOuDow",
        "colab_type": "code",
        "colab": {}
      },
      "source": [
        "y_pred_test=y_pred_test+1\n",
        "submission(y_pred_test,sample,\"augmented2_rf_md15.csv\")"
      ],
      "execution_count": 0,
      "outputs": []
    }
  ]
}